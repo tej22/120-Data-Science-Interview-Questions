{
  "nbformat": 4,
  "nbformat_minor": 0,
  "metadata": {
    "colab": {
      "name": "Copy of TF_2.0.ipynb",
      "provenance": [],
      "collapsed_sections": [],
      "include_colab_link": true
    },
    "kernelspec": {
      "name": "python3",
      "display_name": "Python 3"
    },
    "accelerator": "GPU"
  },
  "cells": [
    {
      "cell_type": "markdown",
      "metadata": {
        "id": "view-in-github",
        "colab_type": "text"
      },
      "source": [
        "<a href=\"https://colab.research.google.com/github/tej22/120-Data-Science-Interview-Questions/blob/master/Copy_of_TF_2_0.ipynb\" target=\"_parent\"><img src=\"https://colab.research.google.com/assets/colab-badge.svg\" alt=\"Open In Colab\"/></a>"
      ]
    },
    {
      "cell_type": "markdown",
      "metadata": {
        "id": "q5EbZRSRU7X-",
        "colab_type": "text"
      },
      "source": [
        "The new version of TensorFlow is changing the way to code machine learning models to be more pythonic. Debugging and creating models were complicated with sessions and graphs but not anymore. Eager Execution allows evaluating tensors on the fly without having to run a session to execute code from end to end. Now, TensorFlow 2.0 introduces eager execution by default.  "
      ]
    },
    {
      "cell_type": "markdown",
      "metadata": {
        "id": "SQLWlBkaUJwJ",
        "colab_type": "text"
      },
      "source": [
        "#Install TF-2.0\n",
        "\n",
        "TF 2.0 is not integrated with colab yet so you have to pip install it first "
      ]
    },
    {
      "cell_type": "code",
      "metadata": {
        "id": "qLOdEd07UI-x",
        "colab_type": "code",
        "colab": {}
      },
      "source": [
        "!pip install tensorflow-gpu==2.0.0"
      ],
      "execution_count": 0,
      "outputs": []
    },
    {
      "cell_type": "markdown",
      "metadata": {
        "id": "CiwZoGf85dnU",
        "colab_type": "text"
      },
      "source": [
        "# Import tensorflow"
      ]
    },
    {
      "cell_type": "code",
      "metadata": {
        "id": "jlnQG8hC-uCg",
        "colab_type": "code",
        "colab": {}
      },
      "source": [
        "import tensorflow as tf"
      ],
      "execution_count": 0,
      "outputs": []
    },
    {
      "cell_type": "markdown",
      "metadata": {
        "id": "8Fq5Gb135Z5f",
        "colab_type": "text"
      },
      "source": [
        "Check the version of tf"
      ]
    },
    {
      "cell_type": "code",
      "metadata": {
        "id": "MVq8s_1cUVNA",
        "colab_type": "code",
        "outputId": "b83a3c46-4ea2-49f4-deec-3df8b1f14078",
        "colab": {
          "base_uri": "https://localhost:8080/",
          "height": 34
        }
      },
      "source": [
        "tf.__version__"
      ],
      "execution_count": 0,
      "outputs": [
        {
          "output_type": "execute_result",
          "data": {
            "text/plain": [
              "'2.0.0'"
            ]
          },
          "metadata": {
            "tags": []
          },
          "execution_count": 2
        }
      ]
    },
    {
      "cell_type": "markdown",
      "metadata": {
        "id": "UC6X5Y844_E-",
        "colab_type": "text"
      },
      "source": [
        "# Executing Ops Eagerly \n",
        "By perfoming operations you can see the output directly without creating a session. "
      ]
    },
    {
      "cell_type": "code",
      "metadata": {
        "id": "DmwZJKlA_B15",
        "colab_type": "code",
        "outputId": "4753f0ca-63a0-431f-d236-8a6d1b088490",
        "colab": {
          "base_uri": "https://localhost:8080/",
          "height": 34
        }
      },
      "source": [
        "x = [[2.]]\n",
        "m = tf.square(x)\n",
        "print(m)"
      ],
      "execution_count": 0,
      "outputs": [
        {
          "output_type": "stream",
          "text": [
            "tf.Tensor([[4.]], shape=(1, 1), dtype=float32)\n"
          ],
          "name": "stdout"
        }
      ]
    },
    {
      "cell_type": "markdown",
      "metadata": {
        "id": "WGLoIPrQ6ZYT",
        "colab_type": "text"
      },
      "source": [
        "You can call `.numpy` to retrieve the results of the tensor as a numpy array"
      ]
    },
    {
      "cell_type": "code",
      "metadata": {
        "id": "-FGFGbZq6fRo",
        "colab_type": "code",
        "outputId": "27e8e2f1-01c2-4803-b00e-15f26f1727f4",
        "colab": {
          "base_uri": "https://localhost:8080/",
          "height": 34
        }
      },
      "source": [
        "m.numpy()"
      ],
      "execution_count": 0,
      "outputs": [
        {
          "output_type": "execute_result",
          "data": {
            "text/plain": [
              "array([[4.]], dtype=float32)"
            ]
          },
          "metadata": {
            "tags": []
          },
          "execution_count": 5
        }
      ]
    },
    {
      "cell_type": "markdown",
      "metadata": {
        "id": "l9Xlu7in6m22",
        "colab_type": "text"
      },
      "source": [
        "You can also compute an operation including two tensors "
      ]
    },
    {
      "cell_type": "code",
      "metadata": {
        "id": "d4tKJJ90_QMM",
        "colab_type": "code",
        "outputId": "44cd8e65-8f81-4d8f-db5c-8b5c3628f306",
        "colab": {
          "base_uri": "https://localhost:8080/",
          "height": 68
        }
      },
      "source": [
        "a = tf.constant([[1, 2],\n",
        "                 [3, 4]])\n",
        "\n",
        "b = tf.constant([[2, 1],\n",
        "                 [3, 4]])\n",
        "\n",
        "ab = tf.matmul(a, b)\n",
        "\n",
        "print('a * b = \\n', ab.numpy())"
      ],
      "execution_count": 0,
      "outputs": [
        {
          "output_type": "stream",
          "text": [
            "a * b = \n",
            " [[ 8  9]\n",
            " [18 19]]\n"
          ],
          "name": "stdout"
        }
      ]
    },
    {
      "cell_type": "markdown",
      "metadata": {
        "id": "V5qlVJygETcb",
        "colab_type": "text"
      },
      "source": [
        "# Constants and Variables \n",
        "\n",
        "\n",
        "*   `tf.constant`, creates a constant tensor populated with the values as argument. The values are immutable. \n",
        "*   `tf.Variable `, this method encapsultes a mutable tensor that can be changed later using assign \n"
      ]
    },
    {
      "cell_type": "markdown",
      "metadata": {
        "id": "ayMVXFj1FZxz",
        "colab_type": "text"
      },
      "source": [
        "Creating a constant tensor "
      ]
    },
    {
      "cell_type": "code",
      "metadata": {
        "id": "g2KFQKSLFNlS",
        "colab_type": "code",
        "outputId": "8cfacd3f-f1b5-42bd-bd03-2ffdf22113c2",
        "colab": {
          "base_uri": "https://localhost:8080/",
          "height": 34
        }
      },
      "source": [
        "a = tf.constant([[2,3]])\n",
        "print(a)"
      ],
      "execution_count": 0,
      "outputs": [
        {
          "output_type": "stream",
          "text": [
            "tf.Tensor([[2 3]], shape=(1, 2), dtype=int32)\n"
          ],
          "name": "stdout"
        }
      ]
    },
    {
      "cell_type": "markdown",
      "metadata": {
        "id": "mn8uX4t5FtHp",
        "colab_type": "text"
      },
      "source": [
        "A constant tensor is immutable so you cannot assign a new value to it."
      ]
    },
    {
      "cell_type": "code",
      "metadata": {
        "id": "xrJqeZfgHU-j",
        "colab_type": "code",
        "outputId": "660735aa-5571-4f7f-f4bd-efe14747566d",
        "colab": {
          "base_uri": "https://localhost:8080/",
          "height": 34
        }
      },
      "source": [
        "try:\n",
        "  a.assign(2.)\n",
        "except:\n",
        "  print('Exception raised ')"
      ],
      "execution_count": 0,
      "outputs": [
        {
          "output_type": "stream",
          "text": [
            "Exception raised \n"
          ],
          "name": "stdout"
        }
      ]
    },
    {
      "cell_type": "markdown",
      "metadata": {
        "id": "lrgbhCu8H3rm",
        "colab_type": "text"
      },
      "source": [
        "On the other hand variables are mutable and can be assigned a new value"
      ]
    },
    {
      "cell_type": "code",
      "metadata": {
        "id": "WSMIotOQFw2F",
        "colab_type": "code",
        "outputId": "33cc4ad7-a9f4-4dfc-8cdd-c1d9fa1f628d",
        "colab": {
          "base_uri": "https://localhost:8080/",
          "height": 51
        }
      },
      "source": [
        "v = tf.Variable(5.)\n",
        "\n",
        "print('Old value for v =', v.numpy())\n",
        "v.assign(2.)\n",
        "print('New value for v =', v.numpy())"
      ],
      "execution_count": 0,
      "outputs": [
        {
          "output_type": "stream",
          "text": [
            "Old value for v = 5.0\n",
            "New value for v = 2.0\n"
          ],
          "name": "stdout"
        }
      ]
    },
    {
      "cell_type": "markdown",
      "metadata": {
        "id": "se0MFrEwMXWo",
        "colab_type": "text"
      },
      "source": [
        "You can also in-place increment/decrement the value of a tensor "
      ]
    },
    {
      "cell_type": "code",
      "metadata": {
        "id": "d9M50PpdMzEn",
        "colab_type": "code",
        "outputId": "8c7caff2-50ae-4cef-8dbc-2059fea26f80",
        "colab": {
          "base_uri": "https://localhost:8080/",
          "height": 68
        }
      },
      "source": [
        "v.assign(2.)\n",
        "print('value     : ', v.numpy())\n",
        "print('increment : ', v.assign_add(1.).numpy())\n",
        "print('decrement : ', v.assign_sub(1.).numpy())"
      ],
      "execution_count": 0,
      "outputs": [
        {
          "output_type": "stream",
          "text": [
            "value     :  2.0\n",
            "increment :  3.0\n",
            "decrement :  2.0\n"
          ],
          "name": "stdout"
        }
      ]
    },
    {
      "cell_type": "markdown",
      "metadata": {
        "id": "FtGAYUUWI8bX",
        "colab_type": "text"
      },
      "source": [
        "You can return many information from a tensor variable, like the name, type , shape and what device it executes on. "
      ]
    },
    {
      "cell_type": "code",
      "metadata": {
        "id": "2wQMtx3QJBSg",
        "colab_type": "code",
        "outputId": "2a6f10b4-fb12-44a3-a253-f91077627e6b",
        "colab": {
          "base_uri": "https://localhost:8080/",
          "height": 85
        }
      },
      "source": [
        "print('name  : ', v.name)\n",
        "print('type  : ', v.dtype)\n",
        "print('shape : ', v.shape)\n",
        "print('device: ', v.device)"
      ],
      "execution_count": 0,
      "outputs": [
        {
          "output_type": "stream",
          "text": [
            "name  :  Variable:0\n",
            "type  :  <dtype: 'float32'>\n",
            "shape :  ()\n",
            "device:  /job:localhost/replica:0/task:0/device:GPU:0\n"
          ],
          "name": "stdout"
        }
      ]
    },
    {
      "cell_type": "markdown",
      "metadata": {
        "id": "5irSm-yDN0nV",
        "colab_type": "text"
      },
      "source": [
        "# Gradient Evaluation"
      ]
    },
    {
      "cell_type": "markdown",
      "metadata": {
        "id": "y36ig_TVAAoM",
        "colab_type": "text"
      },
      "source": [
        "Gradient evaluation is very importnat machine learning because it is based on function optimization. You can use `tf.GradientTape()` method to record the gradient of an arbitrary function"
      ]
    },
    {
      "cell_type": "code",
      "metadata": {
        "id": "bdZmXyAi_3M3",
        "colab_type": "code",
        "outputId": "e050ba2e-59a4-45d6-c4e5-5fad0a01c092",
        "colab": {
          "base_uri": "https://localhost:8080/",
          "height": 34
        }
      },
      "source": [
        "w = tf.Variable(2.0)\n",
        "\n",
        "#watch the gradient of the loss operation\n",
        "with tf.GradientTape() as tape:\n",
        "  loss = w * w\n",
        "\n",
        "grad = tape.gradient(loss, w)\n",
        "print(f'The gradient of w^2 at {w.numpy()} is {grad.numpy()}')"
      ],
      "execution_count": 0,
      "outputs": [
        {
          "output_type": "stream",
          "text": [
            "The gradient of w^2 at 2.0 is 4.0\n"
          ],
          "name": "stdout"
        }
      ]
    },
    {
      "cell_type": "markdown",
      "metadata": {
        "colab_type": "text",
        "id": "0NhC1mQbao1R"
      },
      "source": [
        " In this example we evaluate the gradient of the sigmoid function \n",
        "\n",
        "$$\\sigma(x) = \\frac{1}{1+e^{-x}}$$\n",
        "\n",
        "Note that \n",
        "\n",
        "$$\\sigma'(x) = \\frac{e^{-x}}{(1+e^{-x})^2} = \\sigma(x)(1-\\sigma(x)) $$\n",
        "\n",
        "For isntance \n",
        "\n",
        "$$\\sigma'(0) = \\sigma(0)(1-\\sigma(0)) = \\frac{1}{2}\\left(1-\\frac{1}{2} \\right) = \\frac{1}{4}$$"
      ]
    },
    {
      "cell_type": "code",
      "metadata": {
        "id": "sXH9Qjmgayf2",
        "colab_type": "code",
        "colab": {}
      },
      "source": [
        "def sigmoid(x):\n",
        "  return 1/(1 + tf.exp(-x))"
      ],
      "execution_count": 0,
      "outputs": []
    },
    {
      "cell_type": "code",
      "metadata": {
        "colab_type": "code",
        "outputId": "2dcf5981-186e-41cf-b27a-1da723442a74",
        "id": "tgfIrcX7YyGF",
        "colab": {
          "base_uri": "https://localhost:8080/",
          "height": 34
        }
      },
      "source": [
        "#define a varaible\n",
        "x = tf.Variable(0.)\n",
        "\n",
        "#record the gradient\n",
        "with tf.GradientTape() as tape:\n",
        "  y = sigmoid(x)\n",
        "  \n",
        "print('The gradient of the sigmoid function at 0.0 is ', tape.gradient(y, x).numpy())"
      ],
      "execution_count": 0,
      "outputs": [
        {
          "output_type": "stream",
          "text": [
            "The gradient of the sigmoid function at 0.0 is  0.25\n"
          ],
          "name": "stdout"
        }
      ]
    },
    {
      "cell_type": "markdown",
      "metadata": {
        "id": "Jew_BsZaYeVz",
        "colab_type": "text"
      },
      "source": [
        "You can also compute higher order derivatives by nesting a gradient functions. For instance, \n",
        "\n",
        "$$f(x) = \\log(x) , f'(x) = \\frac{1}{x}, f''(x) = \\frac{-1}{x^2}$$"
      ]
    },
    {
      "cell_type": "code",
      "metadata": {
        "id": "EeLUjBdVbsKM",
        "colab_type": "code",
        "colab": {}
      },
      "source": [
        "def log(x):\n",
        "  return tf.math.log(x)"
      ],
      "execution_count": 0,
      "outputs": []
    },
    {
      "cell_type": "markdown",
      "metadata": {
        "id": "hvpN3Eg0dWd-",
        "colab_type": "text"
      },
      "source": [
        "We could compute the gradient by nesting multiple gradient tapes "
      ]
    },
    {
      "cell_type": "code",
      "metadata": {
        "id": "UoFFIr_AXUnm",
        "colab_type": "code",
        "outputId": "fbfb7837-546a-4bb3-f580-7be15af16581",
        "colab": {
          "base_uri": "https://localhost:8080/",
          "height": 51
        }
      },
      "source": [
        "#define a variable \n",
        "x = tf.Variable(1.)\n",
        "\n",
        "#record second order gradient \n",
        "with tf.GradientTape() as t1:\n",
        "  with tf.GradientTape() as t2:\n",
        "    y = log(x)\n",
        "  dx = t2.gradient(y, x)  \n",
        "dx2 = t1.gradient(dx, x)\n",
        "\n",
        "print('The first  derivative of log at x = 1 is ', dx.numpy())\n",
        "print('The second derivative of log at x = 1 is ', dx2.numpy())"
      ],
      "execution_count": 0,
      "outputs": [
        {
          "output_type": "stream",
          "text": [
            "The first  derivative of log at x = 1 is  1.0\n",
            "The second derivative of log at x = 1 is  -1.0\n"
          ],
          "name": "stdout"
        }
      ]
    },
    {
      "cell_type": "markdown",
      "metadata": {
        "id": "hBVnUE6DRDFw",
        "colab_type": "text"
      },
      "source": [
        "# Custom Gradients\n",
        "\n",
        "Some times the gradient is not what we want espeically if there is a problem in numerical instabilitiy. Consider the following function and its gradient \n",
        "\n",
        "$$f(x) = \\log(1+e^x)$$\n",
        "\n",
        "The gradient is \n",
        "\n",
        "$$f'(x) = \\frac{e^x}{1+e^x}$$\n",
        "\n",
        "Note that at big values of $x$ the gradient value will blow up."
      ]
    },
    {
      "cell_type": "code",
      "metadata": {
        "id": "YR_7vj1TdnFS",
        "colab_type": "code",
        "colab": {}
      },
      "source": [
        "def logexp(x):\n",
        "  return tf.math.log(1 + tf.exp(x))"
      ],
      "execution_count": 0,
      "outputs": []
    },
    {
      "cell_type": "code",
      "metadata": {
        "id": "hJtTtTQXdpqB",
        "colab_type": "code",
        "colab": {}
      },
      "source": [
        "def grad_logexp(x):\n",
        "  with tf.GradientTape() as tape:\n",
        "    y = logexp(x)\n",
        "  dx = tape.gradient(y, x)\n",
        "  return dx"
      ],
      "execution_count": 0,
      "outputs": []
    },
    {
      "cell_type": "code",
      "metadata": {
        "id": "autHEivlRp9M",
        "colab_type": "code",
        "outputId": "ca229d89-dc01-4554-daa2-f78de78e1659",
        "colab": {
          "base_uri": "https://localhost:8080/",
          "height": 51
        }
      },
      "source": [
        "x = tf.Variable(0.)\n",
        "print('The gradient at x = 0  is ', grad_logexp(x).numpy())\n",
        "x = tf.Variable(100.)\n",
        "print('The gradient at x = 100 is ', grad_logexp(x).numpy()) "
      ],
      "execution_count": 0,
      "outputs": [
        {
          "output_type": "stream",
          "text": [
            "The gradient at x = 0  is  0.5\n",
            "The gradient at x = 100 is  nan\n"
          ],
          "name": "stdout"
        }
      ]
    },
    {
      "cell_type": "markdown",
      "metadata": {
        "id": "c19m7XawUR1a",
        "colab_type": "text"
      },
      "source": [
        " We can revaluate the gradient by overriding the gradient of the function. We can recompute the gradient as \n",
        "\n",
        "$$f(x) =  \\frac{1+e^x -e^x }{1+e^x} = 1 - \\frac{1}{1 + e^{x}}$$"
      ]
    },
    {
      "cell_type": "code",
      "metadata": {
        "id": "6NBcha9HgMeM",
        "colab_type": "code",
        "colab": {}
      },
      "source": [
        "@tf.custom_gradient\n",
        "def logexp_stable(x):\n",
        "  e = tf.exp(x)\n",
        "  #dy is optional, allows computation of vector jacobian products for vectors other than the vector of ones.\n",
        "  def grad(dy):\n",
        "    return dy * (1 - 1 / (1 + e))\n",
        "  return tf.math.log(1 + e), grad"
      ],
      "execution_count": 0,
      "outputs": []
    },
    {
      "cell_type": "code",
      "metadata": {
        "id": "GgrDtMCkgKM-",
        "colab_type": "code",
        "colab": {}
      },
      "source": [
        "def grad_logexp(x):\n",
        "  with tf.GradientTape() as tape:\n",
        "    y = logexp_stable(x)\n",
        "  dx = tape.gradient(y, x)\n",
        "  return dx"
      ],
      "execution_count": 0,
      "outputs": []
    },
    {
      "cell_type": "code",
      "metadata": {
        "id": "EmPT2S6XUJ8C",
        "colab_type": "code",
        "outputId": "5bef36dc-9ab2-46f4-ff4c-8ad4ef3786de",
        "colab": {
          "base_uri": "https://localhost:8080/",
          "height": 34
        }
      },
      "source": [
        "x = tf.Variable(100.)\n",
        "print('The gradient at x = 100 is ', grad_logexp(x).numpy()) "
      ],
      "execution_count": 0,
      "outputs": [
        {
          "output_type": "stream",
          "text": [
            "The gradient at x = 100 is  1.0\n"
          ],
          "name": "stdout"
        }
      ]
    },
    {
      "cell_type": "markdown",
      "metadata": {
        "id": "7JnhTNT9Vp8b",
        "colab_type": "text"
      },
      "source": [
        "# tf.function"
      ]
    },
    {
      "cell_type": "markdown",
      "metadata": {
        "id": "EYc484SZV4aD",
        "colab_type": "text"
      },
      "source": [
        "tf.function is a very useful module that can be used to convert simple python functions to static graph operators. For instance, it is difficult to use conditions in graphs but we could implement that easily using `@tf.function` decorator. \n",
        "\n",
        "We know that $f(x) = |x|$ has no derivative at $0$ so we can estimate the derivative at $)$ as $0$ using the following function\n",
        "$$g(x) = \n",
        "\\begin{cases}\n",
        "1 & x > 0 \\\\\n",
        "-1 & x < 0 \\\\\n",
        "0 & x = 0 \n",
        "\\end{cases}$$"
      ]
    },
    {
      "cell_type": "code",
      "metadata": {
        "id": "UKe3f9CJWTj_",
        "colab_type": "code",
        "colab": {}
      },
      "source": [
        "@tf.function \n",
        "def g(x):\n",
        "  if x > 0:\n",
        "    return 1\n",
        "  elif x < 0:\n",
        "    return -1\n",
        "  else:\n",
        "    return 0"
      ],
      "execution_count": 0,
      "outputs": []
    },
    {
      "cell_type": "code",
      "metadata": {
        "id": "a7QS4tvPZIvy",
        "colab_type": "code",
        "outputId": "65cc2493-e972-4a8e-871a-0691c74fe33f",
        "colab": {
          "base_uri": "https://localhost:8080/",
          "height": 68
        }
      },
      "source": [
        "print('If value is positive ', g(3).numpy())\n",
        "print('If value is negative ', g(-3).numpy())\n",
        "print('If value is zero ', g(0).numpy())"
      ],
      "execution_count": 0,
      "outputs": [
        {
          "output_type": "stream",
          "text": [
            "If value is positive  1\n",
            "If value is negative  -1\n",
            "If value is zero  0\n"
          ],
          "name": "stdout"
        }
      ]
    },
    {
      "cell_type": "markdown",
      "metadata": {
        "id": "qofbAYzRO3IW",
        "colab_type": "text"
      },
      "source": [
        "# Object Oriented Metrics\n",
        "You can use `metrics` to record tensors/values and operate on them at the end. This is useful when recording the training history and you want to evaluate it at the end. Use `.result()` to evaluate the metric at the end. "
      ]
    },
    {
      "cell_type": "code",
      "metadata": {
        "id": "u4DkG8BBO74o",
        "colab_type": "code",
        "outputId": "f97a3401-851c-454e-b4b4-03176d9de2ec",
        "colab": {
          "base_uri": "https://localhost:8080/",
          "height": 34
        }
      },
      "source": [
        "m = tf.keras.metrics.Mean(\"loss\")\n",
        "\n",
        "#record the loss \n",
        "m(2)\n",
        "m(4)\n",
        "\n",
        "print('The mean loss is ', m.result().numpy())"
      ],
      "execution_count": 0,
      "outputs": [
        {
          "output_type": "stream",
          "text": [
            "The mean loss is  3.0\n"
          ],
          "name": "stdout"
        }
      ]
    },
    {
      "cell_type": "markdown",
      "metadata": {
        "id": "erOTyJXWbHNJ",
        "colab_type": "text"
      },
      "source": [
        "If you want to remove the recorded values, you can `reset` the variables "
      ]
    },
    {
      "cell_type": "code",
      "metadata": {
        "id": "VJ20YHw9bILA",
        "colab_type": "code",
        "outputId": "ae9d274e-29ea-4bbe-cc89-bc15abdcc18e",
        "colab": {
          "base_uri": "https://localhost:8080/",
          "height": 34
        }
      },
      "source": [
        "m.reset_states()\n",
        "print('The mean loss is ', m.result().numpy())"
      ],
      "execution_count": 0,
      "outputs": [
        {
          "output_type": "stream",
          "text": [
            "The mean loss is  0.0\n"
          ],
          "name": "stdout"
        }
      ]
    },
    {
      "cell_type": "markdown",
      "metadata": {
        "id": "hbIHKtEEbujP",
        "colab_type": "text"
      },
      "source": [
        "# Linear Regression \n",
        "\n",
        "This example is refactored from https://www.tensorflow.org/guide/eager. We create a complete example of using linear regression to predict the paramters of the function \n",
        "\n",
        "$$f(x) = 3 x + 2 + noise$$\n",
        "\n",
        "Given a point $x$ we want to predict the value of $y$. We train the model on 1000 data pairs $(x,f(x))$. \n",
        "\n",
        "The model to learn is a linear model \n",
        "\n",
        "$$\\hat{y} = W x + b$$\n",
        "\n",
        "Note that, we use `tf.GradientTape` to record the gradient with respect our trainable paramters.  \n",
        "\n",
        "We MSE to calcuate the loss \n",
        "\n",
        "$$g = (y-\\hat{y})^2$$\n",
        "\n",
        "We use Gradient Descent to update the paramters \n",
        "\n",
        "$$W = W - \\alpha  \\frac{\\partial g}{\\partial W}$$\n",
        "\n",
        "$$b = b - \\alpha  \\frac{\\partial g}{\\partial b}$$"
      ]
    },
    {
      "cell_type": "code",
      "metadata": {
        "id": "P7A5lcylAERT",
        "colab_type": "code",
        "outputId": "5af97983-df46-4806-ef45-34e50e229713",
        "colab": {
          "base_uri": "https://localhost:8080/",
          "height": 204
        }
      },
      "source": [
        "#1000 data points \n",
        "NUM_EXAMPLES = 1000\n",
        "\n",
        "#define inputs and outputs with some noise \n",
        "X = tf.random.normal([NUM_EXAMPLES])  #inputs \n",
        "noise = tf.random.normal([NUM_EXAMPLES]) #noise \n",
        "y = X * 3 + 2 + noise  #true output\n",
        "\n",
        "#create model paramters with initial values \n",
        "W = tf.Variable(0.)\n",
        "b = tf.Variable(0.)\n",
        "\n",
        "#training info\n",
        "train_steps = 200\n",
        "learning_rate = 0.01\n",
        "\n",
        "for i in range(train_steps):\n",
        "  \n",
        "  #watch the gradient flow \n",
        "  with tf.GradientTape() as tape:\n",
        "    \n",
        "    #forward pass \n",
        "    yhat = X * W + b\n",
        "    \n",
        "    #calcuate the loss (difference squared error)\n",
        "    error = yhat - y\n",
        "    loss = tf.reduce_mean(tf.square(error))\n",
        "  \n",
        "  #evalute the gradient with the respect to the paramters\n",
        "  dW, db = tape.gradient(loss, [W, b])\n",
        "\n",
        "  #update the paramters using Gradient Descent  \n",
        "  W.assign_sub(dW * learning_rate)\n",
        "  b.assign_sub(db* learning_rate)\n",
        "\n",
        "  #print the loss every 20 iterations \n",
        "  if i % 20 == 0:\n",
        "    print(\"Loss at step {:03d}: {:.3f}\".format(i, loss))\n",
        "      \n",
        "print(f'W : {W.numpy()} , b  = {b.numpy()} ')"
      ],
      "execution_count": 0,
      "outputs": [
        {
          "output_type": "stream",
          "text": [
            "Loss at step 000: 14.922\n",
            "Loss at step 020: 6.879\n",
            "Loss at step 040: 3.467\n",
            "Loss at step 060: 2.020\n",
            "Loss at step 080: 1.406\n",
            "Loss at step 100: 1.145\n",
            "Loss at step 120: 1.035\n",
            "Loss at step 140: 0.988\n",
            "Loss at step 160: 0.968\n",
            "Loss at step 180: 0.959\n",
            "W : 2.9483070373535156 , b  = 2.03007173538208 \n"
          ],
          "name": "stdout"
        }
      ]
    },
    {
      "cell_type": "markdown",
      "metadata": {
        "id": "HAbR8BM7J3-t",
        "colab_type": "text"
      },
      "source": [
        "# Dataset Processing and Augmentation"
      ]
    },
    {
      "cell_type": "code",
      "metadata": {
        "id": "nLYuN04dPFJd",
        "colab_type": "code",
        "colab": {}
      },
      "source": [
        "import numpy as np\n",
        "import matplotlib.pyplot as plt\n",
        "import os\n",
        "import random"
      ],
      "execution_count": 0,
      "outputs": []
    },
    {
      "cell_type": "markdown",
      "metadata": {
        "id": "CIbF-GUHPXZO",
        "colab_type": "text"
      },
      "source": [
        "You can easily use MNIST "
      ]
    },
    {
      "cell_type": "code",
      "metadata": {
        "id": "fQxLk3_Lk3OP",
        "colab_type": "code",
        "outputId": "601c955f-855f-4b7c-b3f8-b71983097af0",
        "colab": {
          "base_uri": "https://localhost:8080/",
          "height": 51
        }
      },
      "source": [
        "(x_train, y_train), (x_test, y_test) = tf.keras.datasets.mnist.load_data()"
      ],
      "execution_count": 0,
      "outputs": [
        {
          "output_type": "stream",
          "text": [
            "Downloading data from https://storage.googleapis.com/tensorflow/tf-keras-datasets/mnist.npz\n",
            "11493376/11490434 [==============================] - 0s 0us/step\n"
          ],
          "name": "stdout"
        }
      ]
    },
    {
      "cell_type": "markdown",
      "metadata": {
        "id": "ncJvViT2PgQD",
        "colab_type": "text"
      },
      "source": [
        "We can apply a set of transformations using `tf.image`"
      ]
    },
    {
      "cell_type": "code",
      "metadata": {
        "id": "7WcLqQ4gNao_",
        "colab_type": "code",
        "outputId": "89fff083-3aa7-4620-9a35-089599437a8d",
        "colab": {
          "base_uri": "https://localhost:8080/",
          "height": 162
        }
      },
      "source": [
        "img = x_train[2:3]\n",
        "img = np.expand_dims(img, -1)\n",
        "\n",
        "#flipping horizontally\n",
        "img1 = tf.image.flip_left_right(img)\n",
        "\n",
        "#flipping vertically\n",
        "img2 = tf.image.flip_up_down(img)\n",
        "\n",
        "\n",
        "plt.axis('off')\n",
        "plt.imshow(tf.concat([img, img1, img2], axis = 2).numpy().squeeze())\n",
        "plt.show()"
      ],
      "execution_count": 0,
      "outputs": [
        {
          "output_type": "display_data",
          "data": {
            "image/png": "[encoded data removed]",
            "text/plain": [
              "<Figure size 432x288 with 1 Axes>"
            ]
          },
          "metadata": {
            "tags": []
          }
        }
      ]
    },
    {
      "cell_type": "markdown",
      "metadata": {
        "id": "C8oJ-u_UP_eQ",
        "colab_type": "text"
      },
      "source": [
        "Here we examplain the pipeline of creating a dataset. Note that we have 3 main important functions in `tf.data.Dataset `\n",
        "\n",
        "\n",
        "\n",
        "*   `from_tensor_slices` which convert the input to a tensor \n",
        "*   `map` which applies a certain function to every tensor \n",
        "* `batch` which creates a batch of tensors of certain size\n",
        "\n"
      ]
    },
    {
      "cell_type": "code",
      "metadata": {
        "id": "Y2CeekFxkMXc",
        "colab_type": "code",
        "colab": {}
      },
      "source": [
        "def pre_process(x, y):\n",
        "  #normalize and expand\n",
        "  x = tf.cast(x, tf.float32)/255.\n",
        "  x = tf.expand_dims(x, -1)\n",
        "  \n",
        "  #cast the labels\n",
        "  y = tf.cast(y, tf.int32)\n",
        "  return x, y\n",
        "\n",
        "def create_dataset(x, y):  \n",
        "  #convert to tensors and shuffle\n",
        "  dataset = tf.data.Dataset.from_tensor_slices((x , y)).shuffle(len(x)-1)\n",
        "  \n",
        "  #extract batches\n",
        "  dataset = dataset.batch(32)\n",
        "  \n",
        "  #preprocess the batch\n",
        "  dataset = dataset.map(pre_process, num_parallel_calls = 4)\n",
        "  \n",
        "  return dataset"
      ],
      "execution_count": 0,
      "outputs": []
    },
    {
      "cell_type": "markdown",
      "metadata": {
        "id": "0ywOcraLRFg0",
        "colab_type": "text"
      },
      "source": [
        "Now we can create a dataset and iterate over it "
      ]
    },
    {
      "cell_type": "code",
      "metadata": {
        "id": "s8kGBjCblM3K",
        "colab_type": "code",
        "colab": {}
      },
      "source": [
        "train_dataset = create_dataset(x_train, y_train)\n",
        "test_dataset  = create_dataset(x_test , y_test)"
      ],
      "execution_count": 0,
      "outputs": []
    },
    {
      "cell_type": "code",
      "metadata": {
        "id": "OOZ576C4IsUV",
        "colab_type": "code",
        "outputId": "d6a82a51-17cc-43de-fb30-5b7b263efce6",
        "colab": {
          "base_uri": "https://localhost:8080/",
          "height": 265
        }
      },
      "source": [
        "for x, y in train_dataset:\n",
        "  plt.imshow(x[0].numpy().squeeze(), cmap = 'gray')\n",
        "  plt.axis('off')\n",
        "  plt.show()\n",
        "  break"
      ],
      "execution_count": 0,
      "outputs": [
        {
          "output_type": "display_data",
          "data": {
            "image/png": "[encoded data removed]",
            "text/plain": [
              "<Figure size 432x288 with 1 Axes>"
            ]
          },
          "metadata": {
            "tags": []
          }
        }
      ]
    },
    {
      "cell_type": "markdown",
      "metadata": {
        "id": "4A8pfvNIuViC",
        "colab_type": "text"
      },
      "source": [
        "# Custom Layers"
      ]
    },
    {
      "cell_type": "markdown",
      "metadata": {
        "id": "T2KkEWEQNRaR",
        "colab_type": "text"
      },
      "source": [
        "In this section we learn how to make custom layers. But, first let us learn how to create **initializers**. Initializers are used to create the initiall parameters of a given layer. Let us create a uniform random initialzers. "
      ]
    },
    {
      "cell_type": "code",
      "metadata": {
        "id": "lHTU6nSCO6KP",
        "colab_type": "code",
        "colab": {}
      },
      "source": [
        "initializer = tf.random_uniform_initializer()"
      ],
      "execution_count": 0,
      "outputs": []
    },
    {
      "cell_type": "markdown",
      "metadata": {
        "id": "YdAtmHtYP2kz",
        "colab_type": "text"
      },
      "source": [
        "Then we can create a tensor initialized with values extracted from a uniform distribution"
      ]
    },
    {
      "cell_type": "code",
      "metadata": {
        "id": "KpwL2j5MQLE6",
        "colab_type": "code",
        "outputId": "54a85b62-751b-42b0-e2b0-cbff37a7b713",
        "colab": {
          "base_uri": "https://localhost:8080/",
          "height": 51
        }
      },
      "source": [
        "x = tf.Variable(initializer(shape = (10,)))\n",
        "print(x.numpy())"
      ],
      "execution_count": 0,
      "outputs": [
        {
          "output_type": "stream",
          "text": [
            "[-0.02233864  0.017819    0.0269908   0.03113348  0.00084861 -0.00289609\n",
            " -0.00307513  0.00185374 -0.01953651 -0.0307086 ]\n"
          ],
          "name": "stdout"
        }
      ]
    },
    {
      "cell_type": "markdown",
      "metadata": {
        "id": "i19TBOVoSPMj",
        "colab_type": "text"
      },
      "source": [
        "Now, let us create a simple linear layer. A linear layer is defined in the following fashion \n",
        "\n",
        "$$y = WX+b$$\n",
        "\n",
        "where $X$ is the input batch, $W$ is the weight matrix and $b$ is the bias. "
      ]
    },
    {
      "cell_type": "code",
      "metadata": {
        "id": "5tmMyx5CuZiO",
        "colab_type": "code",
        "colab": {}
      },
      "source": [
        "from tensorflow.keras.layers import Layer"
      ],
      "execution_count": 0,
      "outputs": []
    },
    {
      "cell_type": "code",
      "metadata": {
        "id": "kkMuUKtZuU8h",
        "colab_type": "code",
        "colab": {}
      },
      "source": [
        "class Linear(Layer):\n",
        "\n",
        "  def __init__(self, units=32, input_dim=32):\n",
        "      super(Linear, self).__init__()\n",
        "      \n",
        "      #random initializer for the weights \n",
        "      w_init = tf.random_normal_initializer()\n",
        "      self.w = tf.Variable(\n",
        "          initial_value=w_init(shape=(input_dim, units), dtype='float32'),\n",
        "          trainable=True)\n",
        "      \n",
        "      #zero initialized biases\n",
        "      b_init = tf.zeros_initializer()\n",
        "      self.b = tf.Variable(\n",
        "          initial_value=b_init(shape=(units,), dtype='float32'),\n",
        "          trainable=True)\n",
        "\n",
        "  def call(self, inputs):\n",
        "      #froward call\n",
        "      return tf.matmul(inputs, self.w) + self.b"
      ],
      "execution_count": 0,
      "outputs": []
    },
    {
      "cell_type": "code",
      "metadata": {
        "id": "vcAflLdduu0L",
        "colab_type": "code",
        "colab": {}
      },
      "source": [
        "#create a simple linear layer that has 10 neorons and accept inputs of size 3\n",
        "llayer = Linear(units = 10, input_dim = 3)"
      ],
      "execution_count": 0,
      "outputs": []
    },
    {
      "cell_type": "code",
      "metadata": {
        "id": "0OX9D7e8MrRT",
        "colab_type": "code",
        "outputId": "f14aef2e-3838-475c-bfb8-9df987653e19",
        "colab": {
          "base_uri": "https://localhost:8080/",
          "height": 153
        }
      },
      "source": [
        "#forward call of batch of size 3\n",
        "llayer(tf.ones((3, 3)))"
      ],
      "execution_count": 0,
      "outputs": [
        {
          "output_type": "execute_result",
          "data": {
            "text/plain": [
              "<tf.Tensor: id=7922, shape=(3, 10), dtype=float32, numpy=\n",
              "array([[-0.07493173, -0.07062794,  0.14689818,  0.03446626, -0.11261825,\n",
              "        -0.0377239 ,  0.05364574,  0.05783478,  0.0324616 , -0.14853328],\n",
              "       [-0.07493173, -0.07062794,  0.14689818,  0.03446626, -0.11261825,\n",
              "        -0.0377239 ,  0.05364574,  0.05783478,  0.0324616 , -0.14853328],\n",
              "       [-0.07493173, -0.07062794,  0.14689818,  0.03446626, -0.11261825,\n",
              "        -0.0377239 ,  0.05364574,  0.05783478,  0.0324616 , -0.14853328]],\n",
              "      dtype=float32)>"
            ]
          },
          "metadata": {
            "tags": []
          },
          "execution_count": 54
        }
      ]
    },
    {
      "cell_type": "markdown",
      "metadata": {
        "id": "JE8BnpyA7kfZ",
        "colab_type": "text"
      },
      "source": [
        "# End-to-End CNN Example\n",
        "\n",
        "Here we create a simple convolutional neural network (CNN)to recognize hand-written digits (MNIST). We start by creating a simple alexnet CNN model. \n",
        "\n",
        "![alt text](https://i.imgur.com/twUKrlo.png)"
      ]
    },
    {
      "cell_type": "code",
      "metadata": {
        "id": "5nJYdULqiee7",
        "colab_type": "code",
        "colab": {}
      },
      "source": [
        "from tensorflow.keras.layers import Dense, Convolution2D, MaxPooling2D, Flatten, BatchNormalization, Dropout\n",
        "from tensorflow.keras.models import Sequential"
      ],
      "execution_count": 0,
      "outputs": []
    },
    {
      "cell_type": "code",
      "metadata": {
        "id": "_cuZWAmejXH4",
        "colab_type": "code",
        "colab": {}
      },
      "source": [
        "def create_model():\n",
        "  model = Sequential()\n",
        "  model.add(Convolution2D(filters = 16, kernel_size = 3, padding = 'same', input_shape = [28, 28, 1], activation = 'relu'))\n",
        "  model.add(MaxPooling2D(pool_size = (2,2)))\n",
        "  model.add(Convolution2D(filters = 32, kernel_size = 3, padding = 'same', activation = 'relu'))\n",
        "  model.add(MaxPooling2D(pool_size = (2,2)))\n",
        "  model.add(Flatten())\n",
        "  model.add(Dense(units = 100, activation = 'relu'))\n",
        "  model.add(Dropout(0.5))\n",
        "  model.add(Dense(units = 10 , activation = 'softmax'))\n",
        "  return model"
      ],
      "execution_count": 0,
      "outputs": []
    },
    {
      "cell_type": "markdown",
      "metadata": {
        "id": "YkEgDGCmO7_i",
        "colab_type": "text"
      },
      "source": [
        "## Create the model "
      ]
    },
    {
      "cell_type": "code",
      "metadata": {
        "id": "LvTw6rrnkiMI",
        "colab_type": "code",
        "outputId": "076151f3-3a31-4e17-fd74-813f31dc562c",
        "colab": {
          "base_uri": "https://localhost:8080/",
          "height": 425
        }
      },
      "source": [
        "model = create_model()\n",
        "model.summary()"
      ],
      "execution_count": 0,
      "outputs": [
        {
          "output_type": "stream",
          "text": [
            "Model: \"sequential\"\n",
            "_________________________________________________________________\n",
            "Layer (type)                 Output Shape              Param #   \n",
            "=================================================================\n",
            "conv2d (Conv2D)              (None, 28, 28, 16)        160       \n",
            "_________________________________________________________________\n",
            "max_pooling2d (MaxPooling2D) (None, 14, 14, 16)        0         \n",
            "_________________________________________________________________\n",
            "conv2d_1 (Conv2D)            (None, 14, 14, 32)        4640      \n",
            "_________________________________________________________________\n",
            "max_pooling2d_1 (MaxPooling2 (None, 7, 7, 32)          0         \n",
            "_________________________________________________________________\n",
            "flatten (Flatten)            (None, 1568)              0         \n",
            "_________________________________________________________________\n",
            "dense (Dense)                (None, 100)               156900    \n",
            "_________________________________________________________________\n",
            "dropout (Dropout)            (None, 100)               0         \n",
            "_________________________________________________________________\n",
            "dense_1 (Dense)              (None, 10)                1010      \n",
            "=================================================================\n",
            "Total params: 162,710\n",
            "Trainable params: 162,710\n",
            "Non-trainable params: 0\n",
            "_________________________________________________________________\n"
          ],
          "name": "stdout"
        }
      ]
    },
    {
      "cell_type": "markdown",
      "metadata": {
        "id": "w8xMs3nh5cw2",
        "colab_type": "text"
      },
      "source": [
        "Look at the output by frowarding a batch of zero images. "
      ]
    },
    {
      "cell_type": "code",
      "metadata": {
        "id": "ZilarnvZ5cDS",
        "colab_type": "code",
        "outputId": "8178f394-1451-4f83-97fd-16a7b1b8e382",
        "colab": {
          "base_uri": "https://localhost:8080/",
          "height": 204
        }
      },
      "source": [
        "import numpy as np\n",
        "model(np.zeros((10, 28, 28, 1), np.float32))"
      ],
      "execution_count": 0,
      "outputs": [
        {
          "output_type": "execute_result",
          "data": {
            "text/plain": [
              "<tf.Tensor: id=8109, shape=(10, 10), dtype=float32, numpy=\n",
              "array([[0.1, 0.1, 0.1, 0.1, 0.1, 0.1, 0.1, 0.1, 0.1, 0.1],\n",
              "       [0.1, 0.1, 0.1, 0.1, 0.1, 0.1, 0.1, 0.1, 0.1, 0.1],\n",
              "       [0.1, 0.1, 0.1, 0.1, 0.1, 0.1, 0.1, 0.1, 0.1, 0.1],\n",
              "       [0.1, 0.1, 0.1, 0.1, 0.1, 0.1, 0.1, 0.1, 0.1, 0.1],\n",
              "       [0.1, 0.1, 0.1, 0.1, 0.1, 0.1, 0.1, 0.1, 0.1, 0.1],\n",
              "       [0.1, 0.1, 0.1, 0.1, 0.1, 0.1, 0.1, 0.1, 0.1, 0.1],\n",
              "       [0.1, 0.1, 0.1, 0.1, 0.1, 0.1, 0.1, 0.1, 0.1, 0.1],\n",
              "       [0.1, 0.1, 0.1, 0.1, 0.1, 0.1, 0.1, 0.1, 0.1, 0.1],\n",
              "       [0.1, 0.1, 0.1, 0.1, 0.1, 0.1, 0.1, 0.1, 0.1, 0.1],\n",
              "       [0.1, 0.1, 0.1, 0.1, 0.1, 0.1, 0.1, 0.1, 0.1, 0.1]], dtype=float32)>"
            ]
          },
          "metadata": {
            "tags": []
          },
          "execution_count": 58
        }
      ]
    },
    {
      "cell_type": "markdown",
      "metadata": {
        "id": "nIRZj1pyPnbJ",
        "colab_type": "text"
      },
      "source": [
        "## Design the loss function, Gradient and Accuracy metric"
      ]
    },
    {
      "cell_type": "code",
      "metadata": {
        "id": "6ERHfE-Z4KvV",
        "colab_type": "code",
        "colab": {}
      },
      "source": [
        "#evaluate the loss\n",
        "def loss(y, yhat):\n",
        "  #this applies the loss to sparse labels i.e not one hot encoded \n",
        "  return tf.keras.losses.sparse_categorical_crossentropy(y, yhat)\n",
        "\n",
        "#record the gradient with respect to the model variables \n",
        "def grad(model, x, y):\n",
        "  with tf.GradientTape() as tape:\n",
        "    yhat = model(x)\n",
        "    loss_value = loss(y, yhat)\n",
        "  return tape.gradient(loss_value, model.trainable_variables)\n",
        "\n",
        "#calcuate the accuracy of the model \n",
        "def accuracy(y, yhat):\n",
        "  \n",
        "  #get the labels of the predicted values \n",
        "  yhat = tf.argmax(yhat, 1).numpy()\n",
        "  \n",
        "  #get the labels of the true values\n",
        "  y    = y.numpy()\n",
        "  return np.sum(y == yhat)/len(y)"
      ],
      "execution_count": 0,
      "outputs": []
    },
    {
      "cell_type": "markdown",
      "metadata": {
        "id": "yw-Mk_nJP0vp",
        "colab_type": "text"
      },
      "source": [
        "## Intitalize the variables"
      ]
    },
    {
      "cell_type": "code",
      "metadata": {
        "id": "6UXs1mEKSRwe",
        "colab_type": "code",
        "colab": {}
      },
      "source": [
        "#use Adam optimizer \n",
        "optimizer = tf.keras.optimizers.Adam()\n",
        "\n",
        "#record epoch loss and accuracy  \n",
        "loss_history = tf.keras.metrics.Mean(\"loss\")\n",
        "accuracy_history = tf.keras.metrics.Mean(\"accuracy\")\n",
        "\n",
        "#epochs\n",
        "epochs = 3"
      ],
      "execution_count": 0,
      "outputs": []
    },
    {
      "cell_type": "markdown",
      "metadata": {
        "id": "Xm5mBuUOSQwg",
        "colab_type": "text"
      },
      "source": [
        "## Training"
      ]
    },
    {
      "cell_type": "code",
      "metadata": {
        "id": "XUx2dlTirg_t",
        "colab_type": "code",
        "outputId": "eae35de5-300f-4d2a-861d-7bfe5c7ff1f3",
        "colab": {
          "base_uri": "https://localhost:8080/",
          "height": 68
        }
      },
      "source": [
        "for epoch in range(1, epochs + 1):\n",
        "  for x, y in train_dataset:\n",
        "    \n",
        "    yhat = model(x)\n",
        "    # Calculate derivatives of the input function with respect to its parameters.\n",
        "    grads = grad(model, x, y)\n",
        "\n",
        "    # Apply the gradient to the model\n",
        "    optimizer.apply_gradients(zip(grads, model.trainable_variables))\n",
        "\n",
        "    #record the current loss and accuracy   \n",
        "    loss_history(loss(y, yhat))\n",
        "    accuracy_history(accuracy(y, yhat))\n",
        "\n",
        "  print(\"epoch: {:d} Loss: {:.3f}, Acc: {:.3f}\".format(epoch, loss_history.result(), accuracy_history.result()))\n",
        "\n",
        "  #clear the history \n",
        "  loss_history.reset_states()\n",
        "  accuracy_history.reset_states()"
      ],
      "execution_count": 0,
      "outputs": [
        {
          "output_type": "stream",
          "text": [
            "epoch: 1 Loss: 0.147, Acc: 0.955\n",
            "epoch: 2 Loss: 0.045, Acc: 0.986\n",
            "epoch: 3 Loss: 0.031, Acc: 0.990\n"
          ],
          "name": "stdout"
        }
      ]
    },
    {
      "cell_type": "markdown",
      "metadata": {
        "id": "onYJgb64Yct-",
        "colab_type": "text"
      },
      "source": [
        "## Testing"
      ]
    },
    {
      "cell_type": "code",
      "metadata": {
        "id": "Xdk9lG-sB6Y5",
        "colab_type": "code",
        "outputId": "2ce0a76a-e22f-4355-8c36-8b5d6eb3d614",
        "colab": {
          "base_uri": "https://localhost:8080/",
          "height": 34
        }
      },
      "source": [
        "accuracy_history.reset_states()\n",
        "for x, y in test_dataset:\n",
        "    # Calculate derivatives of the input function with respect to its parameters.\n",
        "    yhat = model(x)\n",
        "\n",
        "    #record the current loss and accuracy   \n",
        "    accuracy_history(accuracy(y, yhat))\n",
        "print(\"Acc: {:.2f}\".format(accuracy_history.result()))"
      ],
      "execution_count": 0,
      "outputs": [
        {
          "output_type": "stream",
          "text": [
            "Acc: 0.99\n"
          ],
          "name": "stdout"
        }
      ]
    },
    {
      "cell_type": "markdown",
      "metadata": {
        "id": "VKtzhgMYNxFr",
        "colab_type": "text"
      },
      "source": [
        "# Save and Restore a Model\n",
        "You can save training history then restore it later. "
      ]
    },
    {
      "cell_type": "code",
      "metadata": {
        "id": "Ci3mmDTLM7oI",
        "colab_type": "code",
        "colab": {}
      },
      "source": [
        "#create a directory for saving the model\n",
        "import os\n",
        "\n",
        "#check if it exists\n",
        "if os.path.isdir('model'):\n",
        "  raise Exception('Folder exists !')\n",
        "else:\n",
        "  checkpoint_dir = 'model'\n",
        "  os.mkdir(checkpoint_dir)\n",
        "\n",
        "  #create a root for the checkpoint\n",
        "  checkpoint_prefix = os.path.join(checkpoint_dir, \"ckpt\")\n",
        "  root = tf.train.Checkpoint(optimizer=optimizer,\n",
        "                             model=model)\n",
        "\n",
        "  #save the model \n",
        "  root.save(file_prefix=checkpoint_prefix)"
      ],
      "execution_count": 0,
      "outputs": []
    },
    {
      "cell_type": "markdown",
      "metadata": {
        "id": "SMkTMzQjUjYy",
        "colab_type": "text"
      },
      "source": [
        "Restore the model "
      ]
    },
    {
      "cell_type": "code",
      "metadata": {
        "id": "AHFYo3Z-UPG0",
        "colab_type": "code",
        "colab": {}
      },
      "source": [
        "#create an empty model \n",
        "model = create_model()\n",
        "\n",
        "#create a checkpoint variable \n",
        "root = tf.train.Checkpoint(optimizer=optimizer,\n",
        "                           model=create_model())\n",
        "\n",
        "#restore the model\n",
        "root.restore(tf.train.latest_checkpoint(checkpoint_dir))\n",
        "\n",
        "#retrieve the trained model \n",
        "model = root.model "
      ],
      "execution_count": 0,
      "outputs": []
    },
    {
      "cell_type": "markdown",
      "metadata": {
        "id": "gn146NlK3k9N",
        "colab_type": "text"
      },
      "source": [
        "## References \n",
        "\n",
        "\n",
        "\n",
        "1.   https://www.tensorflow.org/tutorials\n",
        "\n"
      ]
    }
  ]
}